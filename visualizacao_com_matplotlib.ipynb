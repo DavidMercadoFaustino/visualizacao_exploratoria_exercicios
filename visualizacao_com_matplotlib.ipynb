{
  "nbformat": 4,
  "nbformat_minor": 0,
  "metadata": {
    "kernelspec": {
      "display_name": "Python 3",
      "language": "python",
      "name": "python3"
    },
    "language_info": {
      "codemirror_mode": {
        "name": "ipython",
        "version": 3
      },
      "file_extension": ".py",
      "mimetype": "text/x-python",
      "name": "python",
      "nbconvert_exporter": "python",
      "pygments_lexer": "ipython3",
      "version": "3.7.6"
    },
    "colab": {
      "name": "visualizacao_com_matplotlib.ipynb",
      "provenance": [],
      "toc_visible": true,
      "include_colab_link": true
    }
  },
  "cells": [
    {
      "cell_type": "markdown",
      "metadata": {
        "id": "view-in-github",
        "colab_type": "text"
      },
      "source": [
        "<a href=\"https://colab.research.google.com/github/DavidMercadoFaustino/visualizacao_exploratoria_exercicios/blob/master/visualizacao_com_matplotlib.ipynb\" target=\"_parent\"><img src=\"https://colab.research.google.com/assets/colab-badge.svg\" alt=\"Open In Colab\"/></a>"
      ]
    },
    {
      "cell_type": "markdown",
      "metadata": {
        "id": "DLqN0UTYWFnO"
      },
      "source": [
        "<img src=\"https://i.imgur.com/YX6UATs.png\"  width=\"160\">"
      ]
    },
    {
      "cell_type": "markdown",
      "metadata": {
        "id": "o_OebL5DWFnO"
      },
      "source": [
        "## Projeto - Visualização com Matplotlib\n",
        "\n",
        "## Considerações iniciais\n",
        "\n",
        "O objetivo deste notebook é fazer com que o leitor assimile os recursos de uma das bibliotecas mais importantes do Python - Matplotlib. Alguns exemplos e conceitos serão apresentados ao longo da jornada. Concomitantemente, serão solicitadas algumas tarefas do leitor.\n",
        "\n",
        "### Por que o Matplotlib?\n",
        "Apesar do Python ser possuir um ecossitema de feramentas de visualização muito rico para o cientista de dados, o Matplotlib, sem dúvida, possui seu lugar de destaque.\n",
        "\n",
        "> \"Matplolib tenta facilitar as coisas fáceis e tornar as coisas difíceis possíveis.\"\n",
        ">\n",
        "> [Site do Matplotlib](https://matplotlib.org/)\n",
        "\n",
        "Além do Matplotlib, utilizaremos um conjunto de dados e mais algumas outras bibliotecas de apoio como o [Pandas](https://pandas.pydata.org/). Afinal, o Matplotlib é ótimo, mas não brilha sozinho.\n",
        "\n",
        "### Prepare seu ambiente\n",
        "\n",
        "Se necessário, faça a instalação da biblioteca no seu sistema usando o gerenciador de pacotes da linguagem, no prompt/terminal/cmd digite:\n",
        "```\n",
        "$ pip install matplotlib\n",
        "```\n",
        "\n",
        "Ou caso esteja usando o Anaconda:\n",
        "```\n",
        "$ conda install matplotlib\n",
        "```\n",
        "\n",
        "### Conjunto de dados\n",
        "O conjunto de dados utilizado são os registros de milhares de lutas no Ultimate Fight Championship (UFC). O arquivo [ufc.csv](ufc.csv) possui mais de 145 colunas, o que é demasiadamente grande para as nossas intenções. Deste modo, iremos focar apenas uma parte dos dados.\n",
        "\n",
        "#### Descrição do dados\n",
        "\n",
        "De todas as colunas do arquivo [ufc.csv](ufc.csv), iremos praticar com:\n",
        "- R_fighter: Nome do lutador do canto vermelho.\n",
        "- B_fighter: Nome do lutador do canto azul.\n",
        "- Referee: Nome do árbitro da luta.\n",
        "- date: Data do evento\n",
        "- location: Local do evento.\n",
        "- Winner: Cor do vencedor - Red ou Blue.\n",
        "- title_bout: Se é uma disputa pelo título.\n",
        "- weight_class: Classe de peso da luta."
      ]
    },
    {
      "cell_type": "markdown",
      "metadata": {
        "id": "q4AWVCXyWFnO"
      },
      "source": [
        "## Procedimentos\n",
        "\n",
        "Vamos abordar alguns padrões básicos de uso e práticas recomendadas para ajudar você a utilizar o Matplotlib. Por ser ter um código bastante extenso, o Matplotlib pode ser um desafio ultrajante (e é) para os iniciantes, porém não se intimide. A intenção deste guia é focar no essencial para plotagem dos primeiros gráficos sem necessitar de muita informação.\n",
        "\n",
        "### Importando as bibliotecas\n",
        "- **%matplotlib inline**: é uma *Magic Word* do Jupyter Notebook que informa à plataforma que informa ao Jupyter para que os gráficos sejam plotados diratemente no notebook.\n",
        "- **numpy**: Uma biblioteca de apoio para gerar alguns dados para plotagem.\n",
        "- **pandas**: A biblioteca pandas fornece estruturas e ferramentas de análise de dados. Iremos utilizá-la para carregar e manipular o conjunto de dados em uma estrutura chamada *dataframe*. Por convenção, recomenda-se o pandas seja utilizado com o nome *pd*.\n",
        "- **matplotlib.pyplot**: A estrela de hoje. Por convenção, recomenda-se que matplotlib.pyplot seja acessado via pelo nome *plt*."
      ]
    },
    {
      "cell_type": "code",
      "metadata": {
        "id": "GtzHTGrAWFnO"
      },
      "source": [
        "import numpy as np\n",
        "import pandas as pd\n",
        "import matplotlib.pyplot as plt"
      ],
      "execution_count": 1,
      "outputs": []
    },
    {
      "cell_type": "markdown",
      "metadata": {
        "id": "GE215DMeWFnO"
      },
      "source": [
        "### TAREFA 01\n",
        "1. Importe o arquivo [ufc.csv](ufc.csv) em um dataframe.\n",
        "2. Visualize as primeiras 5 linhas do dataframe"
      ]
    },
    {
      "cell_type": "code",
      "metadata": {
        "colab": {
          "base_uri": "https://localhost:8080/",
          "height": 423
        },
        "id": "i-rjf5q3WFnO",
        "outputId": "0f5969ae-69c3-4db4-d02d-ca06998b4da2"
      },
      "source": [
        "df = pd.read_csv('/content/ufc.csv')\n",
        "df.head()"
      ],
      "execution_count": 3,
      "outputs": [
        {
          "output_type": "execute_result",
          "data": {
            "text/html": [
              "<div>\n",
              "<style scoped>\n",
              "    .dataframe tbody tr th:only-of-type {\n",
              "        vertical-align: middle;\n",
              "    }\n",
              "\n",
              "    .dataframe tbody tr th {\n",
              "        vertical-align: top;\n",
              "    }\n",
              "\n",
              "    .dataframe thead th {\n",
              "        text-align: right;\n",
              "    }\n",
              "</style>\n",
              "<table border=\"1\" class=\"dataframe\">\n",
              "  <thead>\n",
              "    <tr style=\"text-align: right;\">\n",
              "      <th></th>\n",
              "      <th>R_fighter</th>\n",
              "      <th>B_fighter</th>\n",
              "      <th>Referee</th>\n",
              "      <th>date</th>\n",
              "      <th>location</th>\n",
              "      <th>Winner</th>\n",
              "      <th>title_bout</th>\n",
              "      <th>weight_class</th>\n",
              "      <th>no_of_rounds</th>\n",
              "      <th>B_current_lose_streak</th>\n",
              "      <th>B_current_win_streak</th>\n",
              "      <th>B_draw</th>\n",
              "      <th>B_avg_BODY_att</th>\n",
              "      <th>B_avg_BODY_landed</th>\n",
              "      <th>B_avg_CLINCH_att</th>\n",
              "      <th>B_avg_CLINCH_landed</th>\n",
              "      <th>B_avg_DISTANCE_att</th>\n",
              "      <th>B_avg_DISTANCE_landed</th>\n",
              "      <th>B_avg_GROUND_att</th>\n",
              "      <th>B_avg_GROUND_landed</th>\n",
              "      <th>B_avg_HEAD_att</th>\n",
              "      <th>B_avg_HEAD_landed</th>\n",
              "      <th>B_avg_KD</th>\n",
              "      <th>B_avg_LEG_att</th>\n",
              "      <th>B_avg_LEG_landed</th>\n",
              "      <th>B_avg_PASS</th>\n",
              "      <th>B_avg_REV</th>\n",
              "      <th>B_avg_SIG_STR_att</th>\n",
              "      <th>B_avg_SIG_STR_landed</th>\n",
              "      <th>B_avg_SIG_STR_pct</th>\n",
              "      <th>B_avg_SUB_ATT</th>\n",
              "      <th>B_avg_TD_att</th>\n",
              "      <th>B_avg_TD_landed</th>\n",
              "      <th>B_avg_TD_pct</th>\n",
              "      <th>B_avg_TOTAL_STR_att</th>\n",
              "      <th>B_avg_TOTAL_STR_landed</th>\n",
              "      <th>B_longest_win_streak</th>\n",
              "      <th>B_losses</th>\n",
              "      <th>B_avg_opp_BODY_att</th>\n",
              "      <th>B_avg_opp_BODY_landed</th>\n",
              "      <th>...</th>\n",
              "      <th>R_avg_opp_BODY_att</th>\n",
              "      <th>R_avg_opp_BODY_landed</th>\n",
              "      <th>R_avg_opp_CLINCH_att</th>\n",
              "      <th>R_avg_opp_CLINCH_landed</th>\n",
              "      <th>R_avg_opp_DISTANCE_att</th>\n",
              "      <th>R_avg_opp_DISTANCE_landed</th>\n",
              "      <th>R_avg_opp_GROUND_att</th>\n",
              "      <th>R_avg_opp_GROUND_landed</th>\n",
              "      <th>R_avg_opp_HEAD_att</th>\n",
              "      <th>R_avg_opp_HEAD_landed</th>\n",
              "      <th>R_avg_opp_KD</th>\n",
              "      <th>R_avg_opp_LEG_att</th>\n",
              "      <th>R_avg_opp_LEG_landed</th>\n",
              "      <th>R_avg_opp_PASS</th>\n",
              "      <th>R_avg_opp_REV</th>\n",
              "      <th>R_avg_opp_SIG_STR_att</th>\n",
              "      <th>R_avg_opp_SIG_STR_landed</th>\n",
              "      <th>R_avg_opp_SIG_STR_pct</th>\n",
              "      <th>R_avg_opp_SUB_ATT</th>\n",
              "      <th>R_avg_opp_TD_att</th>\n",
              "      <th>R_avg_opp_TD_landed</th>\n",
              "      <th>R_avg_opp_TD_pct</th>\n",
              "      <th>R_avg_opp_TOTAL_STR_att</th>\n",
              "      <th>R_avg_opp_TOTAL_STR_landed</th>\n",
              "      <th>R_total_rounds_fought</th>\n",
              "      <th>R_total_time_fought(seconds)</th>\n",
              "      <th>R_total_title_bouts</th>\n",
              "      <th>R_win_by_Decision_Majority</th>\n",
              "      <th>R_win_by_Decision_Split</th>\n",
              "      <th>R_win_by_Decision_Unanimous</th>\n",
              "      <th>R_win_by_KO/TKO</th>\n",
              "      <th>R_win_by_Submission</th>\n",
              "      <th>R_win_by_TKO_Doctor_Stoppage</th>\n",
              "      <th>R_wins</th>\n",
              "      <th>R_Stance</th>\n",
              "      <th>R_Height_cms</th>\n",
              "      <th>R_Reach_cms</th>\n",
              "      <th>R_Weight_lbs</th>\n",
              "      <th>B_age</th>\n",
              "      <th>R_age</th>\n",
              "    </tr>\n",
              "  </thead>\n",
              "  <tbody>\n",
              "    <tr>\n",
              "      <th>0</th>\n",
              "      <td>Henry Cejudo</td>\n",
              "      <td>Marlon Moraes</td>\n",
              "      <td>Marc Goddard</td>\n",
              "      <td>2019-06-08</td>\n",
              "      <td>Chicago, Illinois, USA</td>\n",
              "      <td>Red</td>\n",
              "      <td>True</td>\n",
              "      <td>Bantamweight</td>\n",
              "      <td>5</td>\n",
              "      <td>0.0</td>\n",
              "      <td>4.0</td>\n",
              "      <td>0.0</td>\n",
              "      <td>9.200000</td>\n",
              "      <td>6.000000</td>\n",
              "      <td>0.200000</td>\n",
              "      <td>0.000000</td>\n",
              "      <td>62.600000</td>\n",
              "      <td>20.600000</td>\n",
              "      <td>2.600000</td>\n",
              "      <td>2.000000</td>\n",
              "      <td>48.600000</td>\n",
              "      <td>11.200000</td>\n",
              "      <td>0.800000</td>\n",
              "      <td>7.6</td>\n",
              "      <td>5.400000</td>\n",
              "      <td>0.400000</td>\n",
              "      <td>0.000000</td>\n",
              "      <td>65.40</td>\n",
              "      <td>22.600000</td>\n",
              "      <td>0.466000</td>\n",
              "      <td>0.400000</td>\n",
              "      <td>0.80000</td>\n",
              "      <td>0.200000</td>\n",
              "      <td>0.100000</td>\n",
              "      <td>66.400000</td>\n",
              "      <td>23.600000</td>\n",
              "      <td>4.0</td>\n",
              "      <td>1.0</td>\n",
              "      <td>6.400000</td>\n",
              "      <td>4.000000</td>\n",
              "      <td>...</td>\n",
              "      <td>13.300000</td>\n",
              "      <td>8.800000</td>\n",
              "      <td>7.500000</td>\n",
              "      <td>5.100000</td>\n",
              "      <td>90.500000</td>\n",
              "      <td>26.800000</td>\n",
              "      <td>0.800000</td>\n",
              "      <td>0.300000</td>\n",
              "      <td>76.100000</td>\n",
              "      <td>17.300000</td>\n",
              "      <td>0.100000</td>\n",
              "      <td>9.400000</td>\n",
              "      <td>6.100000</td>\n",
              "      <td>0.000000</td>\n",
              "      <td>0.000000</td>\n",
              "      <td>98.800000</td>\n",
              "      <td>32.200000</td>\n",
              "      <td>0.336000</td>\n",
              "      <td>0.000000</td>\n",
              "      <td>0.900000</td>\n",
              "      <td>0.100000</td>\n",
              "      <td>0.050000</td>\n",
              "      <td>110.500000</td>\n",
              "      <td>43.300000</td>\n",
              "      <td>27.0</td>\n",
              "      <td>742.60</td>\n",
              "      <td>3.0</td>\n",
              "      <td>0.0</td>\n",
              "      <td>2.0</td>\n",
              "      <td>4.0</td>\n",
              "      <td>2.0</td>\n",
              "      <td>0.0</td>\n",
              "      <td>0.0</td>\n",
              "      <td>8.0</td>\n",
              "      <td>Orthodox</td>\n",
              "      <td>162.56</td>\n",
              "      <td>162.56</td>\n",
              "      <td>135.0</td>\n",
              "      <td>31.0</td>\n",
              "      <td>32.0</td>\n",
              "    </tr>\n",
              "    <tr>\n",
              "      <th>1</th>\n",
              "      <td>Valentina Shevchenko</td>\n",
              "      <td>Jessica Eye</td>\n",
              "      <td>Robert Madrigal</td>\n",
              "      <td>2019-06-08</td>\n",
              "      <td>Chicago, Illinois, USA</td>\n",
              "      <td>Red</td>\n",
              "      <td>True</td>\n",
              "      <td>Women's Flyweight</td>\n",
              "      <td>5</td>\n",
              "      <td>0.0</td>\n",
              "      <td>3.0</td>\n",
              "      <td>0.0</td>\n",
              "      <td>14.600000</td>\n",
              "      <td>9.100000</td>\n",
              "      <td>11.800000</td>\n",
              "      <td>7.300000</td>\n",
              "      <td>124.700000</td>\n",
              "      <td>42.100000</td>\n",
              "      <td>2.400000</td>\n",
              "      <td>1.900000</td>\n",
              "      <td>112.000000</td>\n",
              "      <td>32.000000</td>\n",
              "      <td>0.000000</td>\n",
              "      <td>12.3</td>\n",
              "      <td>10.200000</td>\n",
              "      <td>0.800000</td>\n",
              "      <td>0.000000</td>\n",
              "      <td>138.90</td>\n",
              "      <td>51.300000</td>\n",
              "      <td>0.399000</td>\n",
              "      <td>0.700000</td>\n",
              "      <td>1.00000</td>\n",
              "      <td>0.500000</td>\n",
              "      <td>0.225000</td>\n",
              "      <td>158.700000</td>\n",
              "      <td>69.600000</td>\n",
              "      <td>3.0</td>\n",
              "      <td>6.0</td>\n",
              "      <td>13.000000</td>\n",
              "      <td>9.300000</td>\n",
              "      <td>...</td>\n",
              "      <td>24.571429</td>\n",
              "      <td>14.142857</td>\n",
              "      <td>10.571429</td>\n",
              "      <td>7.857143</td>\n",
              "      <td>98.571429</td>\n",
              "      <td>32.571429</td>\n",
              "      <td>6.428571</td>\n",
              "      <td>4.285714</td>\n",
              "      <td>61.857143</td>\n",
              "      <td>12.428571</td>\n",
              "      <td>0.000000</td>\n",
              "      <td>29.142857</td>\n",
              "      <td>18.142857</td>\n",
              "      <td>1.142857</td>\n",
              "      <td>0.000000</td>\n",
              "      <td>115.571429</td>\n",
              "      <td>44.714286</td>\n",
              "      <td>0.437143</td>\n",
              "      <td>0.285714</td>\n",
              "      <td>3.285714</td>\n",
              "      <td>0.857143</td>\n",
              "      <td>0.147143</td>\n",
              "      <td>158.142857</td>\n",
              "      <td>82.285714</td>\n",
              "      <td>25.0</td>\n",
              "      <td>1062.00</td>\n",
              "      <td>2.0</td>\n",
              "      <td>0.0</td>\n",
              "      <td>1.0</td>\n",
              "      <td>2.0</td>\n",
              "      <td>0.0</td>\n",
              "      <td>2.0</td>\n",
              "      <td>0.0</td>\n",
              "      <td>5.0</td>\n",
              "      <td>Southpaw</td>\n",
              "      <td>165.10</td>\n",
              "      <td>167.64</td>\n",
              "      <td>125.0</td>\n",
              "      <td>32.0</td>\n",
              "      <td>31.0</td>\n",
              "    </tr>\n",
              "    <tr>\n",
              "      <th>2</th>\n",
              "      <td>Tony Ferguson</td>\n",
              "      <td>Donald Cerrone</td>\n",
              "      <td>Dan Miragliotta</td>\n",
              "      <td>2019-06-08</td>\n",
              "      <td>Chicago, Illinois, USA</td>\n",
              "      <td>Red</td>\n",
              "      <td>False</td>\n",
              "      <td>Lightweight</td>\n",
              "      <td>3</td>\n",
              "      <td>0.0</td>\n",
              "      <td>3.0</td>\n",
              "      <td>0.0</td>\n",
              "      <td>15.354839</td>\n",
              "      <td>11.322581</td>\n",
              "      <td>6.741935</td>\n",
              "      <td>4.387097</td>\n",
              "      <td>84.741935</td>\n",
              "      <td>38.580645</td>\n",
              "      <td>5.516129</td>\n",
              "      <td>3.806452</td>\n",
              "      <td>67.645161</td>\n",
              "      <td>23.258065</td>\n",
              "      <td>0.645161</td>\n",
              "      <td>14.0</td>\n",
              "      <td>12.193548</td>\n",
              "      <td>0.935484</td>\n",
              "      <td>0.096774</td>\n",
              "      <td>97.00</td>\n",
              "      <td>46.774194</td>\n",
              "      <td>0.496129</td>\n",
              "      <td>0.354839</td>\n",
              "      <td>2.16129</td>\n",
              "      <td>0.677419</td>\n",
              "      <td>0.295484</td>\n",
              "      <td>103.709677</td>\n",
              "      <td>52.548387</td>\n",
              "      <td>8.0</td>\n",
              "      <td>8.0</td>\n",
              "      <td>17.903226</td>\n",
              "      <td>11.870968</td>\n",
              "      <td>...</td>\n",
              "      <td>14.466667</td>\n",
              "      <td>8.133333</td>\n",
              "      <td>2.800000</td>\n",
              "      <td>0.733333</td>\n",
              "      <td>91.066667</td>\n",
              "      <td>32.200000</td>\n",
              "      <td>4.866667</td>\n",
              "      <td>2.800000</td>\n",
              "      <td>78.266667</td>\n",
              "      <td>23.200000</td>\n",
              "      <td>0.266667</td>\n",
              "      <td>6.000000</td>\n",
              "      <td>4.400000</td>\n",
              "      <td>0.333333</td>\n",
              "      <td>0.133333</td>\n",
              "      <td>98.733333</td>\n",
              "      <td>35.733333</td>\n",
              "      <td>0.340000</td>\n",
              "      <td>0.066667</td>\n",
              "      <td>2.866667</td>\n",
              "      <td>0.666667</td>\n",
              "      <td>0.131333</td>\n",
              "      <td>102.133333</td>\n",
              "      <td>38.600000</td>\n",
              "      <td>33.0</td>\n",
              "      <td>604.40</td>\n",
              "      <td>2.0</td>\n",
              "      <td>0.0</td>\n",
              "      <td>1.0</td>\n",
              "      <td>3.0</td>\n",
              "      <td>3.0</td>\n",
              "      <td>6.0</td>\n",
              "      <td>1.0</td>\n",
              "      <td>14.0</td>\n",
              "      <td>Orthodox</td>\n",
              "      <td>180.34</td>\n",
              "      <td>193.04</td>\n",
              "      <td>155.0</td>\n",
              "      <td>36.0</td>\n",
              "      <td>35.0</td>\n",
              "    </tr>\n",
              "    <tr>\n",
              "      <th>3</th>\n",
              "      <td>Jimmie Rivera</td>\n",
              "      <td>Petr Yan</td>\n",
              "      <td>Kevin MacDonald</td>\n",
              "      <td>2019-06-08</td>\n",
              "      <td>Chicago, Illinois, USA</td>\n",
              "      <td>Blue</td>\n",
              "      <td>False</td>\n",
              "      <td>Bantamweight</td>\n",
              "      <td>3</td>\n",
              "      <td>0.0</td>\n",
              "      <td>4.0</td>\n",
              "      <td>0.0</td>\n",
              "      <td>17.000000</td>\n",
              "      <td>14.000000</td>\n",
              "      <td>13.750000</td>\n",
              "      <td>11.000000</td>\n",
              "      <td>109.500000</td>\n",
              "      <td>48.750000</td>\n",
              "      <td>13.000000</td>\n",
              "      <td>10.500000</td>\n",
              "      <td>116.250000</td>\n",
              "      <td>53.750000</td>\n",
              "      <td>0.500000</td>\n",
              "      <td>3.0</td>\n",
              "      <td>2.500000</td>\n",
              "      <td>0.500000</td>\n",
              "      <td>0.250000</td>\n",
              "      <td>136.25</td>\n",
              "      <td>70.250000</td>\n",
              "      <td>0.550000</td>\n",
              "      <td>0.250000</td>\n",
              "      <td>2.50000</td>\n",
              "      <td>1.250000</td>\n",
              "      <td>0.287500</td>\n",
              "      <td>154.750000</td>\n",
              "      <td>86.750000</td>\n",
              "      <td>4.0</td>\n",
              "      <td>0.0</td>\n",
              "      <td>12.250000</td>\n",
              "      <td>6.000000</td>\n",
              "      <td>...</td>\n",
              "      <td>20.250000</td>\n",
              "      <td>13.375000</td>\n",
              "      <td>6.875000</td>\n",
              "      <td>5.625000</td>\n",
              "      <td>103.125000</td>\n",
              "      <td>38.500000</td>\n",
              "      <td>0.875000</td>\n",
              "      <td>0.750000</td>\n",
              "      <td>77.375000</td>\n",
              "      <td>20.375000</td>\n",
              "      <td>0.125000</td>\n",
              "      <td>13.250000</td>\n",
              "      <td>11.125000</td>\n",
              "      <td>0.000000</td>\n",
              "      <td>0.000000</td>\n",
              "      <td>110.875000</td>\n",
              "      <td>44.875000</td>\n",
              "      <td>0.446250</td>\n",
              "      <td>0.000000</td>\n",
              "      <td>2.375000</td>\n",
              "      <td>0.000000</td>\n",
              "      <td>0.000000</td>\n",
              "      <td>115.125000</td>\n",
              "      <td>48.875000</td>\n",
              "      <td>20.0</td>\n",
              "      <td>690.25</td>\n",
              "      <td>0.0</td>\n",
              "      <td>0.0</td>\n",
              "      <td>1.0</td>\n",
              "      <td>4.0</td>\n",
              "      <td>1.0</td>\n",
              "      <td>0.0</td>\n",
              "      <td>0.0</td>\n",
              "      <td>6.0</td>\n",
              "      <td>Orthodox</td>\n",
              "      <td>162.56</td>\n",
              "      <td>172.72</td>\n",
              "      <td>135.0</td>\n",
              "      <td>26.0</td>\n",
              "      <td>29.0</td>\n",
              "    </tr>\n",
              "    <tr>\n",
              "      <th>4</th>\n",
              "      <td>Tai Tuivasa</td>\n",
              "      <td>Blagoy Ivanov</td>\n",
              "      <td>Dan Miragliotta</td>\n",
              "      <td>2019-06-08</td>\n",
              "      <td>Chicago, Illinois, USA</td>\n",
              "      <td>Blue</td>\n",
              "      <td>False</td>\n",
              "      <td>Heavyweight</td>\n",
              "      <td>3</td>\n",
              "      <td>0.0</td>\n",
              "      <td>1.0</td>\n",
              "      <td>0.0</td>\n",
              "      <td>17.000000</td>\n",
              "      <td>14.500000</td>\n",
              "      <td>2.500000</td>\n",
              "      <td>2.000000</td>\n",
              "      <td>201.000000</td>\n",
              "      <td>59.500000</td>\n",
              "      <td>0.000000</td>\n",
              "      <td>0.000000</td>\n",
              "      <td>184.500000</td>\n",
              "      <td>45.000000</td>\n",
              "      <td>0.000000</td>\n",
              "      <td>2.0</td>\n",
              "      <td>2.000000</td>\n",
              "      <td>0.000000</td>\n",
              "      <td>0.000000</td>\n",
              "      <td>203.50</td>\n",
              "      <td>61.500000</td>\n",
              "      <td>0.310000</td>\n",
              "      <td>0.000000</td>\n",
              "      <td>0.00000</td>\n",
              "      <td>0.000000</td>\n",
              "      <td>0.000000</td>\n",
              "      <td>204.000000</td>\n",
              "      <td>62.000000</td>\n",
              "      <td>1.0</td>\n",
              "      <td>1.0</td>\n",
              "      <td>42.500000</td>\n",
              "      <td>23.500000</td>\n",
              "      <td>...</td>\n",
              "      <td>6.250000</td>\n",
              "      <td>4.750000</td>\n",
              "      <td>4.500000</td>\n",
              "      <td>3.500000</td>\n",
              "      <td>42.750000</td>\n",
              "      <td>16.250000</td>\n",
              "      <td>7.750000</td>\n",
              "      <td>2.750000</td>\n",
              "      <td>43.250000</td>\n",
              "      <td>14.000000</td>\n",
              "      <td>0.250000</td>\n",
              "      <td>5.500000</td>\n",
              "      <td>3.750000</td>\n",
              "      <td>0.750000</td>\n",
              "      <td>0.000000</td>\n",
              "      <td>55.000000</td>\n",
              "      <td>22.500000</td>\n",
              "      <td>0.397500</td>\n",
              "      <td>0.000000</td>\n",
              "      <td>1.000000</td>\n",
              "      <td>0.000000</td>\n",
              "      <td>0.000000</td>\n",
              "      <td>60.500000</td>\n",
              "      <td>27.750000</td>\n",
              "      <td>7.0</td>\n",
              "      <td>440.75</td>\n",
              "      <td>0.0</td>\n",
              "      <td>0.0</td>\n",
              "      <td>0.0</td>\n",
              "      <td>1.0</td>\n",
              "      <td>2.0</td>\n",
              "      <td>0.0</td>\n",
              "      <td>0.0</td>\n",
              "      <td>3.0</td>\n",
              "      <td>Southpaw</td>\n",
              "      <td>187.96</td>\n",
              "      <td>190.50</td>\n",
              "      <td>264.0</td>\n",
              "      <td>32.0</td>\n",
              "      <td>26.0</td>\n",
              "    </tr>\n",
              "  </tbody>\n",
              "</table>\n",
              "<p>5 rows × 145 columns</p>\n",
              "</div>"
            ],
            "text/plain": [
              "              R_fighter       B_fighter  ... B_age R_age\n",
              "0          Henry Cejudo   Marlon Moraes  ...  31.0  32.0\n",
              "1  Valentina Shevchenko     Jessica Eye  ...  32.0  31.0\n",
              "2         Tony Ferguson  Donald Cerrone  ...  36.0  35.0\n",
              "3         Jimmie Rivera        Petr Yan  ...  26.0  29.0\n",
              "4           Tai Tuivasa   Blagoy Ivanov  ...  32.0  26.0\n",
              "\n",
              "[5 rows x 145 columns]"
            ]
          },
          "metadata": {
            "tags": []
          },
          "execution_count": 3
        }
      ]
    },
    {
      "cell_type": "code",
      "metadata": {
        "id": "NRs8YDrLWFnO",
        "outputId": "8034b814-5d3d-4485-e178-2b7f6727856a"
      },
      "source": [
        "# Resultado esperado (não modifique esta célula)"
      ],
      "execution_count": null,
      "outputs": [
        {
          "output_type": "execute_result",
          "data": {
            "text/html": [
              "<div>\n",
              "<style scoped>\n",
              "    .dataframe tbody tr th:only-of-type {\n",
              "        vertical-align: middle;\n",
              "    }\n",
              "\n",
              "    .dataframe tbody tr th {\n",
              "        vertical-align: top;\n",
              "    }\n",
              "\n",
              "    .dataframe thead th {\n",
              "        text-align: right;\n",
              "    }\n",
              "</style>\n",
              "<table border=\"1\" class=\"dataframe\">\n",
              "  <thead>\n",
              "    <tr style=\"text-align: right;\">\n",
              "      <th></th>\n",
              "      <th>R_fighter</th>\n",
              "      <th>B_fighter</th>\n",
              "      <th>Referee</th>\n",
              "      <th>date</th>\n",
              "      <th>location</th>\n",
              "      <th>Winner</th>\n",
              "      <th>title_bout</th>\n",
              "      <th>weight_class</th>\n",
              "      <th>no_of_rounds</th>\n",
              "      <th>B_current_lose_streak</th>\n",
              "      <th>...</th>\n",
              "      <th>R_win_by_KO/TKO</th>\n",
              "      <th>R_win_by_Submission</th>\n",
              "      <th>R_win_by_TKO_Doctor_Stoppage</th>\n",
              "      <th>R_wins</th>\n",
              "      <th>R_Stance</th>\n",
              "      <th>R_Height_cms</th>\n",
              "      <th>R_Reach_cms</th>\n",
              "      <th>R_Weight_lbs</th>\n",
              "      <th>B_age</th>\n",
              "      <th>R_age</th>\n",
              "    </tr>\n",
              "  </thead>\n",
              "  <tbody>\n",
              "    <tr>\n",
              "      <td>0</td>\n",
              "      <td>Henry Cejudo</td>\n",
              "      <td>Marlon Moraes</td>\n",
              "      <td>Marc Goddard</td>\n",
              "      <td>2019-06-08</td>\n",
              "      <td>Chicago, Illinois, USA</td>\n",
              "      <td>Red</td>\n",
              "      <td>True</td>\n",
              "      <td>Bantamweight</td>\n",
              "      <td>5</td>\n",
              "      <td>0.0</td>\n",
              "      <td>...</td>\n",
              "      <td>2.0</td>\n",
              "      <td>0.0</td>\n",
              "      <td>0.0</td>\n",
              "      <td>8.0</td>\n",
              "      <td>Orthodox</td>\n",
              "      <td>162.56</td>\n",
              "      <td>162.56</td>\n",
              "      <td>135.0</td>\n",
              "      <td>31.0</td>\n",
              "      <td>32.0</td>\n",
              "    </tr>\n",
              "    <tr>\n",
              "      <td>1</td>\n",
              "      <td>Valentina Shevchenko</td>\n",
              "      <td>Jessica Eye</td>\n",
              "      <td>Robert Madrigal</td>\n",
              "      <td>2019-06-08</td>\n",
              "      <td>Chicago, Illinois, USA</td>\n",
              "      <td>Red</td>\n",
              "      <td>True</td>\n",
              "      <td>Women's Flyweight</td>\n",
              "      <td>5</td>\n",
              "      <td>0.0</td>\n",
              "      <td>...</td>\n",
              "      <td>0.0</td>\n",
              "      <td>2.0</td>\n",
              "      <td>0.0</td>\n",
              "      <td>5.0</td>\n",
              "      <td>Southpaw</td>\n",
              "      <td>165.10</td>\n",
              "      <td>167.64</td>\n",
              "      <td>125.0</td>\n",
              "      <td>32.0</td>\n",
              "      <td>31.0</td>\n",
              "    </tr>\n",
              "    <tr>\n",
              "      <td>2</td>\n",
              "      <td>Tony Ferguson</td>\n",
              "      <td>Donald Cerrone</td>\n",
              "      <td>Dan Miragliotta</td>\n",
              "      <td>2019-06-08</td>\n",
              "      <td>Chicago, Illinois, USA</td>\n",
              "      <td>Red</td>\n",
              "      <td>False</td>\n",
              "      <td>Lightweight</td>\n",
              "      <td>3</td>\n",
              "      <td>0.0</td>\n",
              "      <td>...</td>\n",
              "      <td>3.0</td>\n",
              "      <td>6.0</td>\n",
              "      <td>1.0</td>\n",
              "      <td>14.0</td>\n",
              "      <td>Orthodox</td>\n",
              "      <td>180.34</td>\n",
              "      <td>193.04</td>\n",
              "      <td>155.0</td>\n",
              "      <td>36.0</td>\n",
              "      <td>35.0</td>\n",
              "    </tr>\n",
              "    <tr>\n",
              "      <td>3</td>\n",
              "      <td>Jimmie Rivera</td>\n",
              "      <td>Petr Yan</td>\n",
              "      <td>Kevin MacDonald</td>\n",
              "      <td>2019-06-08</td>\n",
              "      <td>Chicago, Illinois, USA</td>\n",
              "      <td>Blue</td>\n",
              "      <td>False</td>\n",
              "      <td>Bantamweight</td>\n",
              "      <td>3</td>\n",
              "      <td>0.0</td>\n",
              "      <td>...</td>\n",
              "      <td>1.0</td>\n",
              "      <td>0.0</td>\n",
              "      <td>0.0</td>\n",
              "      <td>6.0</td>\n",
              "      <td>Orthodox</td>\n",
              "      <td>162.56</td>\n",
              "      <td>172.72</td>\n",
              "      <td>135.0</td>\n",
              "      <td>26.0</td>\n",
              "      <td>29.0</td>\n",
              "    </tr>\n",
              "    <tr>\n",
              "      <td>4</td>\n",
              "      <td>Tai Tuivasa</td>\n",
              "      <td>Blagoy Ivanov</td>\n",
              "      <td>Dan Miragliotta</td>\n",
              "      <td>2019-06-08</td>\n",
              "      <td>Chicago, Illinois, USA</td>\n",
              "      <td>Blue</td>\n",
              "      <td>False</td>\n",
              "      <td>Heavyweight</td>\n",
              "      <td>3</td>\n",
              "      <td>0.0</td>\n",
              "      <td>...</td>\n",
              "      <td>2.0</td>\n",
              "      <td>0.0</td>\n",
              "      <td>0.0</td>\n",
              "      <td>3.0</td>\n",
              "      <td>Southpaw</td>\n",
              "      <td>187.96</td>\n",
              "      <td>190.50</td>\n",
              "      <td>264.0</td>\n",
              "      <td>32.0</td>\n",
              "      <td>26.0</td>\n",
              "    </tr>\n",
              "  </tbody>\n",
              "</table>\n",
              "<p>5 rows × 145 columns</p>\n",
              "</div>"
            ],
            "text/plain": [
              "              R_fighter       B_fighter          Referee        date  \\\n",
              "0          Henry Cejudo   Marlon Moraes     Marc Goddard  2019-06-08   \n",
              "1  Valentina Shevchenko     Jessica Eye  Robert Madrigal  2019-06-08   \n",
              "2         Tony Ferguson  Donald Cerrone  Dan Miragliotta  2019-06-08   \n",
              "3         Jimmie Rivera        Petr Yan  Kevin MacDonald  2019-06-08   \n",
              "4           Tai Tuivasa   Blagoy Ivanov  Dan Miragliotta  2019-06-08   \n",
              "\n",
              "                 location Winner  title_bout       weight_class  no_of_rounds  \\\n",
              "0  Chicago, Illinois, USA    Red        True       Bantamweight             5   \n",
              "1  Chicago, Illinois, USA    Red        True  Women's Flyweight             5   \n",
              "2  Chicago, Illinois, USA    Red       False        Lightweight             3   \n",
              "3  Chicago, Illinois, USA   Blue       False       Bantamweight             3   \n",
              "4  Chicago, Illinois, USA   Blue       False        Heavyweight             3   \n",
              "\n",
              "   B_current_lose_streak  ...  R_win_by_KO/TKO  R_win_by_Submission  \\\n",
              "0                    0.0  ...              2.0                  0.0   \n",
              "1                    0.0  ...              0.0                  2.0   \n",
              "2                    0.0  ...              3.0                  6.0   \n",
              "3                    0.0  ...              1.0                  0.0   \n",
              "4                    0.0  ...              2.0                  0.0   \n",
              "\n",
              "   R_win_by_TKO_Doctor_Stoppage  R_wins  R_Stance  R_Height_cms  R_Reach_cms  \\\n",
              "0                           0.0     8.0  Orthodox        162.56       162.56   \n",
              "1                           0.0     5.0  Southpaw        165.10       167.64   \n",
              "2                           1.0    14.0  Orthodox        180.34       193.04   \n",
              "3                           0.0     6.0  Orthodox        162.56       172.72   \n",
              "4                           0.0     3.0  Southpaw        187.96       190.50   \n",
              "\n",
              "   R_Weight_lbs  B_age  R_age  \n",
              "0         135.0   31.0   32.0  \n",
              "1         125.0   32.0   31.0  \n",
              "2         155.0   36.0   35.0  \n",
              "3         135.0   26.0   29.0  \n",
              "4         264.0   32.0   26.0  \n",
              "\n",
              "[5 rows x 145 columns]"
            ]
          },
          "metadata": {
            "tags": []
          },
          "execution_count": 2
        }
      ]
    },
    {
      "cell_type": "markdown",
      "metadata": {
        "id": "rBAiyHNXWFnP"
      },
      "source": [
        "### Diferenças entre os métodos plt.show() e plt.plot()\n",
        "Caso você esteja executando matplotlib a partir do script Python, use o *plt.show()* em qualquer plotagem. Porém, no nosso caso, rodando a partir do notebook, nosso trabalho poderá ser realizado apenas com *plt.plot()*. Não se esqueça que para isso, ativamos a opção de apresentar os gráficos diretamente no notebook através do comando *%matplotlib inline*."
      ]
    },
    {
      "cell_type": "markdown",
      "metadata": {
        "id": "pBypYxStWFnP"
      },
      "source": [
        "### A anatomia de um gráfico\n",
        "\n",
        "O Matplotlib é baseado no conceito de que todos os elementos que constituem um gráfico estão organizados dentro de uma hierarquia. No topo desta hirarquia, está o ambiente do Matplotlib, fornecido pelo módulo que importamos anteriormente - __matplotlib.pyplot__. A partir dele, o usuário acessa funções que adicionam elementos nos gráficos (linhas, imagens, legendas, etc).\n",
        "\n",
        "Descendo na hirarquia, o usuário poderá utilizar objetos que possuem funcionalidades. Por exemplo, uma figura é criada a partir de um objeto *Figure* ou um subgráfico em um gráfico é manipulado por um objeto *Axe*. Alias, no fim das contas, para deixar o código mais \"acessível\", o usuário acaba sempre trabalhando com os objetos do Matplotlib.\n",
        "\n",
        "Para esclarecer um pouco mais, observe a imagem abaixo. Nela, estão contidas os elementos que compoem um gráfico:\n",
        "<center>\n",
        "<img src='https://matplotlib.org/_images/anatomy.png' alt='Anatomia de um gráfico' width='600' height='600'/>\n",
        "</center>\n",
        "\n",
        "Não se preocupe em entender cada um dos elementos, o importante é ter a noção de que estes elementos possuem uma hierarquia na organização e que você deve obedecê-la durante a montagem de gráficos mais complexos.\n",
        "\n",
        "#### Figure\n",
        "O *Figure* é o elemento de mais alto nível do gráfico. Uma figura pode ter vários eixos (*Axes*), mas um eixo pode pertencer a somente uma figura. Além disso, o objeto *Figure* aceita parâmetros que formatam nosso gráfico.\n",
        "\n",
        "### TAREFA 02\n",
        "1. Instancie uma figura.\n",
        "2. Use o *plt.plot()* para visualizar no notebook.\n",
        "\n",
        "- **DICA**: O objeto *figure* está dentro do matplotlib.pyplot.\n",
        "- **DICA**: Caso você não tenha usado o comando *%matplotlib inline*, a figura não aparecerá."
      ]
    },
    {
      "cell_type": "code",
      "metadata": {
        "colab": {
          "base_uri": "https://localhost:8080/",
          "height": 265
        },
        "id": "Z6313LVrWFnP",
        "outputId": "21ca651a-f82a-4088-fb34-7e62a144793a"
      },
      "source": [
        "fig = plt.plot()"
      ],
      "execution_count": 4,
      "outputs": [
        {
          "output_type": "display_data",
          "data": {
            "image/png": "[encoded data removed]",
            "text/plain": [
              "<Figure size 432x288 with 1 Axes>"
            ]
          },
          "metadata": {
            "tags": [],
            "needs_background": "light"
          }
        }
      ]
    },
    {
      "cell_type": "code",
      "metadata": {
        "id": "lgTmS8-WWFnP",
        "outputId": "c3fc9fdf-ab2d-4791-b0e8-27d1b43eeaae"
      },
      "source": [
        "# Resultado esperado (não modifique esta célula)"
      ],
      "execution_count": null,
      "outputs": [
        {
          "output_type": "execute_result",
          "data": {
            "text/plain": [
              "[]"
            ]
          },
          "metadata": {
            "tags": []
          },
          "execution_count": 3
        },
        {
          "output_type": "display_data",
          "data": {
            "image/png": "[encoded data removed]",
            "text/plain": [
              "<Figure size 432x288 with 1 Axes>"
            ]
          },
          "metadata": {
            "tags": []
          }
        }
      ]
    },
    {
      "cell_type": "markdown",
      "metadata": {
        "id": "xAzQENwbWFnP"
      },
      "source": [
        "### TAREFA 03\n",
        "1. Instancie uma figura alterando seu tamanho.\n",
        "2. Use o *plt.plot()* para visualizar no notebook.\n",
        "\n",
        "- **DICA**: Use o parâmetro *figsize*."
      ]
    },
    {
      "cell_type": "code",
      "metadata": {
        "colab": {
          "base_uri": "https://localhost:8080/",
          "height": 592
        },
        "id": "8RMDLZb3WFnP",
        "outputId": "36bdf42a-edaf-48f2-9928-2348a22a4a33"
      },
      "source": [
        "fig = plt.figure(figsize=(10,10))\n",
        "fig = plt.plot()"
      ],
      "execution_count": 5,
      "outputs": [
        {
          "output_type": "display_data",
          "data": {
            "image/png": "[encoded data removed]",
            "text/plain": [
              "<Figure size 720x720 with 1 Axes>"
            ]
          },
          "metadata": {
            "tags": [],
            "needs_background": "light"
          }
        }
      ]
    },
    {
      "cell_type": "code",
      "metadata": {
        "id": "g-lwflW9WFnP",
        "outputId": "a1d8c544-c8ed-4968-b827-eb891c1d2171"
      },
      "source": [
        "# Resultado esperado (não modifique esta célula)"
      ],
      "execution_count": null,
      "outputs": [
        {
          "output_type": "execute_result",
          "data": {
            "text/plain": [
              "[]"
            ]
          },
          "metadata": {
            "tags": []
          },
          "execution_count": 4
        },
        {
          "output_type": "display_data",
          "data": {
            "image/png": "[encoded data removed]",
            "text/plain": [
              "<Figure size 720x720 with 1 Axes>"
            ]
          },
          "metadata": {
            "tags": []
          }
        }
      ]
    },
    {
      "cell_type": "markdown",
      "metadata": {
        "id": "3h1AxYQxWFnQ"
      },
      "source": [
        "#### Axe\n",
        "Pense em um *Axe* como uma região da figura onde você plotará seus gráficos. Uma *Figure* pode ter vários *Axes*, mas um *Axe* pertence a uma só *Figure*. Para adicionar *Axes* à uma *Figure*, podemos utilizar os métodos *fig.add_axes()* ou *fig.add_subplot()*. Para esclarecer, *Axes* e *subplots* são a mesma coisa.\n",
        "\n",
        "O método *fig.add_subplots()* usa 3 números inteiros como parâmetro. Esses três números definem o número de linhas e colunas e a posição do subplot na figura. Por exemplo, usando *fig.add_subplots(ijk)* adiciona um eixo na k-enésima posição de uma grade que possui i linhas e j colunas.\n",
        "\n",
        "O método *fig.add_subplot()* é a maneira mais fácil de configurar seu layout, enquanto *fig.add_axes()* lhe dará mais controle sobre a posição dos seus eixos.\n",
        "\n",
        "### TAREFA 04\n",
        "1. Instancie uma figura\n",
        "2. Adicione dois subplots lado a lado.\n",
        "3. Não se esqueça do plot.plot()\n",
        "\n",
        "**DICA**: Utilize o método *fig.add_axes()*."
      ]
    },
    {
      "cell_type": "code",
      "metadata": {
        "colab": {
          "base_uri": "https://localhost:8080/",
          "height": 250
        },
        "id": "0exaXmTRWFnQ",
        "outputId": "7692c555-2d5e-43d7-9115-225c02d538b2"
      },
      "source": [
        "fig = plt.figure(figsize=(6,8))\n",
        "ax1 = fig.add_subplot(221)\n",
        "ax2 = fig.add_subplot(222)\n",
        "plt.show()"
      ],
      "execution_count": 6,
      "outputs": [
        {
          "output_type": "display_data",
          "data": {
            "image/png": "[encoded data removed]",
            "text/plain": [
              "<Figure size 432x576 with 2 Axes>"
            ]
          },
          "metadata": {
            "tags": [],
            "needs_background": "light"
          }
        }
      ]
    },
    {
      "cell_type": "code",
      "metadata": {
        "id": "nE1cdgKEWFnQ",
        "outputId": "624f86fa-15e5-4930-c7e5-289ebf1dc154"
      },
      "source": [
        "# Resultado esperado (não modifique esta célula)"
      ],
      "execution_count": null,
      "outputs": [
        {
          "output_type": "execute_result",
          "data": {
            "text/plain": [
              "[]"
            ]
          },
          "metadata": {
            "tags": []
          },
          "execution_count": 5
        },
        {
          "output_type": "display_data",
          "data": {
            "image/png": "[encoded data removed]",
            "text/plain": [
              "<Figure size 432x288 with 2 Axes>"
            ]
          },
          "metadata": {
            "tags": []
          }
        }
      ]
    },
    {
      "cell_type": "markdown",
      "metadata": {
        "id": "rJxb77pLWFnQ"
      },
      "source": [
        "Cada subplot contém dois eixos, representados pelos objetos *Axis* (observe a diferença entre *Axes* e *Axis*) que cuidam dos limites de cada subplot. As faixas de valores dos eixos podem ser controlados através dos métodos *axes.set_xlim()* e *axes.set_ylim()*.\n",
        "\n",
        "### TAREFA 05\n",
        "1. Altere os limites dos subplotes da figura anterior\n",
        "2. Para o subplot da esquerda, configure o eixo x de 0 a 10.\n",
        "3. No subplot da direita, defina y entre -1 e 1.\n",
        "4. Adicione os títulos \"Esquerda\" e \"Direita\" nos subplots."
      ]
    },
    {
      "cell_type": "code",
      "metadata": {
        "colab": {
          "base_uri": "https://localhost:8080/",
          "height": 262
        },
        "id": "DS102UcEWFnQ",
        "outputId": "9ba30634-6546-4a23-f7d3-11894215b348"
      },
      "source": [
        "fig = plt.figure(figsize=(6,8))\n",
        "ax1 = fig.add_subplot(221)\n",
        "ax2 = fig.add_subplot(222)\n",
        "\n",
        "ax1.title.set_text('Esquerda')\n",
        "ax1.set_xlim(0,10)\n",
        "\n",
        "ax2.title.set_text('Direita')\n",
        "ax2.set_ylim(-1,1)\n",
        "plt.show()"
      ],
      "execution_count": 7,
      "outputs": [
        {
          "output_type": "display_data",
          "data": {
            "image/png": "[encoded data removed]",
            "text/plain": [
              "<Figure size 432x576 with 2 Axes>"
            ]
          },
          "metadata": {
            "tags": [],
            "needs_background": "light"
          }
        }
      ]
    },
    {
      "cell_type": "code",
      "metadata": {
        "id": "pIBMrQcKWFnQ",
        "outputId": "6a7c38ad-c03d-49bf-d663-213b666fddf0"
      },
      "source": [
        "# Resultado esperado (não modifique esta célula)"
      ],
      "execution_count": null,
      "outputs": [
        {
          "output_type": "execute_result",
          "data": {
            "text/plain": [
              "[]"
            ]
          },
          "metadata": {
            "tags": []
          },
          "execution_count": 6
        },
        {
          "output_type": "display_data",
          "data": {
            "image/png": "[encoded data removed]",
            "text/plain": [
              "<Figure size 432x288 with 2 Axes>"
            ]
          },
          "metadata": {
            "tags": []
          }
        }
      ]
    },
    {
      "cell_type": "markdown",
      "metadata": {
        "id": "KI_daRYfWFnQ"
      },
      "source": [
        "Nossos subplots estão sobreajustados e o eixo y do subplot da direita está ruim de visualizar.\n",
        "\n",
        "### TAREFA 06\n",
        "1. Com base na figura anterior, ajuste o gráfico.\n",
        "2. Ajuste o tamanho da figura.\n",
        "\n",
        "**DICA**: Use o método *figure.tight_layout()*."
      ]
    },
    {
      "cell_type": "code",
      "metadata": {
        "colab": {
          "base_uri": "https://localhost:8080/",
          "height": 319
        },
        "id": "Z_G5pMsdWFnQ",
        "outputId": "15948f7d-12a1-484c-ab6a-aa54f044c8ed"
      },
      "source": [
        "fig = plt.figure(figsize=(8,8))\n",
        "ax1 = fig.add_subplot(221)\n",
        "ax2 = fig.add_subplot(222)\n",
        "\n",
        "ax1.title.set_text('Esquerda')\n",
        "ax1.set_xlim(0,10)\n",
        "\n",
        "ax2.title.set_text('Direita')\n",
        "ax2.set_ylim(-1,1)\n",
        "\n",
        "plt.tight_layout()\n",
        "plt.show()"
      ],
      "execution_count": 8,
      "outputs": [
        {
          "output_type": "display_data",
          "data": {
            "image/png": "[encoded data removed]",
            "text/plain": [
              "<Figure size 576x576 with 2 Axes>"
            ]
          },
          "metadata": {
            "tags": [],
            "needs_background": "light"
          }
        }
      ]
    },
    {
      "cell_type": "code",
      "metadata": {
        "id": "xburefPpWFnQ",
        "outputId": "aebbf067-01bf-433e-d9f6-9c26c66c96ef"
      },
      "source": [
        "# Resultado esperado (não modifique esta célula)"
      ],
      "execution_count": null,
      "outputs": [
        {
          "output_type": "execute_result",
          "data": {
            "text/plain": [
              "[]"
            ]
          },
          "metadata": {
            "tags": []
          },
          "execution_count": 7
        },
        {
          "output_type": "display_data",
          "data": {
            "image/png": "[encoded data removed]",
            "text/plain": [
              "<Figure size 576x288 with 2 Axes>"
            ]
          },
          "metadata": {
            "tags": []
          }
        }
      ]
    },
    {
      "cell_type": "markdown",
      "metadata": {
        "id": "MwxS__aGWFnQ"
      },
      "source": [
        "Bem melhor não é? Percebeu como os objetos (*Figure*, *Axes*, etc) são utilizados na montagem do gráfico? E como os atritutos (*figsize*) e métodos (*tight_layout()*, *set_title()*, *set_xlim()*, etc) destes objetos são utilizados para alterar a estética do grafico?\n",
        "\n",
        "Os recursos do Matplotlib são vastos, mas o conceito de hirarquia de elementos das figuras e a interação destes elementos farão você chegar à qualquer lugar na hora de montar seu gráfico."
      ]
    },
    {
      "cell_type": "markdown",
      "metadata": {
        "id": "WQDDI1yUWFnQ"
      },
      "source": [
        "### Plotando seus gráficos\n",
        "Vamos voltar ao conjunto de dados do UFC que carregamos mais cedo. Afinal, o Matplotlib é somente uma tela em branco quando você não tem o que desenhar.\n",
        "\n",
        "A variável *fights_by_year* armazena a quantidade de lutas por ano do evento. Apesar deste notebook não pretender ensinar Pandas, é altamente recomendável que você não tenha dúvida sobre o que foi feito na célula abaixo."
      ]
    },
    {
      "cell_type": "code",
      "metadata": {
        "id": "FPI0iCsgWFnQ"
      },
      "source": [
        "# Transformando a coluna date em objeto datetime e agrupando as lutas por ano.\n",
        "df['date'] = pd.to_datetime(df['date'])\n",
        "fights_by_year = df.groupby(df['date'].dt.year).size()"
      ],
      "execution_count": 10,
      "outputs": []
    },
    {
      "cell_type": "markdown",
      "metadata": {
        "id": "GQbHjk7HWFnQ"
      },
      "source": [
        "### TAREFA 07\n",
        "1. Plote a evolução das quantidades de lutas por ano no UFC.\n",
        "2. Use um gráfico de linha.\n",
        "3. Configure título e nome dos eixos x e y."
      ]
    },
    {
      "cell_type": "code",
      "metadata": {
        "colab": {
          "base_uri": "https://localhost:8080/",
          "height": 312
        },
        "id": "RZcmNmwcWFnQ",
        "outputId": "9fc2389d-5d51-411f-9c94-87e2ffff9f96"
      },
      "source": [
        "fig = plt.figure(figsize=(6,4))\n",
        "plt.plot(fights_by_year)\n",
        "plt.title('Evolução da  Quantidade de Lutas do UFC')\n",
        "plt.ylabel('Qtde. de Lutas')\n",
        "plt.xlabel('Ano')"
      ],
      "execution_count": 11,
      "outputs": [
        {
          "output_type": "execute_result",
          "data": {
            "text/plain": [
              "Text(0.5, 0, 'Ano')"
            ]
          },
          "metadata": {
            "tags": []
          },
          "execution_count": 11
        },
        {
          "output_type": "display_data",
          "data": {
            "image/png": "[encoded data removed]",
            "text/plain": [
              "<Figure size 432x288 with 1 Axes>"
            ]
          },
          "metadata": {
            "tags": [],
            "needs_background": "light"
          }
        }
      ]
    },
    {
      "cell_type": "code",
      "metadata": {
        "id": "_8YMI-0vWFnQ",
        "outputId": "4463c928-5891-4c92-9077-0c1c018ee762"
      },
      "source": [
        "# Resultado esperado (não modifique esta célula)"
      ],
      "execution_count": null,
      "outputs": [
        {
          "output_type": "execute_result",
          "data": {
            "text/plain": [
              "Text(0,0.5,'Qtde. de Lutas')"
            ]
          },
          "metadata": {
            "tags": []
          },
          "execution_count": 9
        },
        {
          "output_type": "display_data",
          "data": {
            "image/png": "[encoded data removed]",
            "text/plain": [
              "<Figure size 432x288 with 1 Axes>"
            ]
          },
          "metadata": {
            "tags": []
          }
        }
      ]
    },
    {
      "cell_type": "markdown",
      "metadata": {
        "id": "JwFqSwW0WFnQ"
      },
      "source": [
        "### Matplotlib e pandas\n",
        "A biblioteca Pandas possui integração com o Matplotlib, permitindo que sejam criados gráficos diretamente dos dataframes do Pandas. Se você quiser plotar as informações de forma mais rápida, basta você utilizar o método *plot()* do próprio dataframe.\n",
        "\n",
        "Separamos as 10 classes de peso mais relevantes - maior quantidade de lutas - do UFC ao longo dos anos."
      ]
    },
    {
      "cell_type": "code",
      "metadata": {
        "id": "3aH_JSm8WFnQ"
      },
      "source": [
        "fights_by_class = df['weight_class'].value_counts()[:10]"
      ],
      "execution_count": 13,
      "outputs": []
    },
    {
      "cell_type": "markdown",
      "metadata": {
        "id": "WP8bHmBDWFnQ"
      },
      "source": [
        "### TAREFA 08\n",
        "1. Plote a quantidade de lutas das 10 classes de peso mais relevantes do UFC.\n",
        "2. Use um gráfico de barra diretamente do dataframe.\n",
        "3. Armazene seu plot em um objeto *Axe*.\n",
        "4. Configure título e nome dos eixos x e y."
      ]
    },
    {
      "cell_type": "code",
      "metadata": {
        "colab": {
          "base_uri": "https://localhost:8080/",
          "height": 402
        },
        "id": "ZC5H5QEpWFnQ",
        "outputId": "eb73eaa1-e680-4c4a-f58d-d6a04a4b00fe"
      },
      "source": [
        "plt.figure(figsize=(8,4))\n",
        "fights_by_class.plot(kind='bar')\n",
        "\n",
        "plt.title('Quantidade de lutas por Classe de Peso')\n",
        "\n",
        "plt.xticks(rotation=50)\n",
        "plt.xlabel('Classe de Peso')\n",
        "\n",
        "plt.ylabel('Qtde. de Lutas')"
      ],
      "execution_count": 17,
      "outputs": [
        {
          "output_type": "execute_result",
          "data": {
            "text/plain": [
              "Text(0, 0.5, 'Qtde. de Lutas')"
            ]
          },
          "metadata": {
            "tags": []
          },
          "execution_count": 17
        },
        {
          "output_type": "display_data",
          "data": {
            "image/png": "[encoded data removed]",
            "text/plain": [
              "<Figure size 576x288 with 1 Axes>"
            ]
          },
          "metadata": {
            "tags": [],
            "needs_background": "light"
          }
        }
      ]
    },
    {
      "cell_type": "code",
      "metadata": {
        "id": "hGwnbZKIWFnQ",
        "outputId": "48184af9-6be2-4428-8d7c-8b66a9eda5a2"
      },
      "source": [
        "# Resultado esperado (não modifique esta célula)"
      ],
      "execution_count": null,
      "outputs": [
        {
          "output_type": "display_data",
          "data": {
            "image/png": "[encoded data removed]",
            "text/plain": [
              "<Figure size 432x288 with 1 Axes>"
            ]
          },
          "metadata": {
            "tags": []
          }
        }
      ]
    },
    {
      "cell_type": "markdown",
      "metadata": {
        "id": "0vIqzuVxWFnQ"
      },
      "source": [
        "## Conclusão\n",
        "Matplotlib é provavelmente o pacote Python mais utilizado para gráficos 2D. Ele fornece uma maneira muito rápida de visualizar os dados de Python e figuras de qualidade de publicação em vários formatos. Em conjunto com outras ferramentas, como Pandas e Seaborn (este é um complemento ao Matplotlib), os cientistas de dados tem um grande aliado."
      ]
    },
    {
      "cell_type": "markdown",
      "metadata": {
        "id": "UqdCyHG8WFnQ"
      },
      "source": [
        "### Awari -  <a href=\"https://awari.com.br/\"> awari.com.br</a>"
      ]
    }
  ]
}